{
 "cells": [
  {
   "cell_type": "markdown",
   "metadata": {
    "slideshow": {
     "slide_type": "slide"
    }
   },
   "source": [
    "Why is julia fast?"
   ]
  },
  {
   "cell_type": "markdown",
   "metadata": {
    "slideshow": {
     "slide_type": "slide"
    }
   },
   "source": [
    "What makes a language slow?"
   ]
  },
  {
   "cell_type": "markdown",
   "metadata": {},
   "source": [
    "![](xiaoqi-images/highway-memphis.jpg)"
   ]
  },
  {
   "cell_type": "markdown",
   "metadata": {},
   "source": [
    "![](xiaoqi-images/union-memphis.jpg)"
   ]
  },
  {
   "cell_type": "markdown",
   "metadata": {},
   "source": [
    "So, in order to find out why is Julia fast, we need to be asking a question: what makes a language slow?\n",
    "let me give you a real life example: which one can you drive faster on, high way or local roads? \n",
    "On local roads, there are pedestrians and bikers, and all kinds of businesses that you need to be going to. \n",
    "The traffic condition is a lot more complicated than highway, where you only have to worry about the car ahead of you. \n",
    "\n",
    "Same goes for language, for a dynamic language, the compiler or interpreter have to be able to handle all types of input, floating point, integer, even user defined type. \n",
    "There is no way to predict what kind of input you will give, until the compiler evaluates that line of code. \n",
    "So you lose all the wonderful benefit of code optimization from the compiler. \n",
    "If you like to change variable types on the fly, mostly likely, that's why your code runs slow. \n",
    "\n",
    "# Essentially, type stability is the key to making a language fast. \n",
    "\n",
    "Julia achieves this type stability with JIT compiler and multiple dispatch. \n",
    "A compiler is a translator that turns source code to machine code. It is statically typed, but does not take in account runtime information \n",
    "An interpreter runs your code line by line. You can change the type of your variable on the fly, but is very slow. \n",
    "# JIT compiler:\n",
    "JIT is a hybrid approach of the two. \n",
    "It compiles your code at runtime, so that it provide compiler runtime information for better optimization, and compiles the code to run very fast. \n",
    "\n",
    "Now that we understand the compiler choice of Julia, let's view some awesome design features that helps you understand your code better. \n",
    "- Multiple Dispatch: dynamic type achieved through type inference for easy use, static compile for speed \n",
    "- Cached compilation: don't invent wheel twice\n",
    "- Easy code introspect with macro of every compilation stage.\n",
    "\n"
   ]
  },
  {
   "cell_type": "markdown",
   "metadata": {},
   "source": [
    "# Multiple Dispatch + Type Inference\n",
    "Multiple dispatch means a function or method can be dynamically dispatched based on the run time (dynamic) type. \n",
    "The easist way to understand multiple dispatch is that it is very much like function overload. \n",
    "Function overload is two functions that has the same name, but have different argument, either by type, or by number of argument.\n",
    "This allows code to run the most efficient way for a specific type of input. \n",
    "But this is a lot of work to implement the same method for every possible data type, and a lot of time, it is redundant. \n",
    "Julia takes over the tedious task, and uses type inference to determin the type and generate efficient compiled code. It takes the burden of writing efficient code off your shoulder, let the compiler help you. "
   ]
  },
  {
   "cell_type": "code",
   "execution_count": 1,
   "metadata": {},
   "outputs": [
    {
     "data": {
      "text/plain": [
       "CodeInfo(\n",
       "\u001b[90m1 ─\u001b[39m %1 = Base.mul_int(x, x)\u001b[36m::Int64\u001b[39m\n",
       "\u001b[90m└──\u001b[39m      return %1\n",
       ") => Int64"
      ]
     },
     "execution_count": 1,
     "metadata": {},
     "output_type": "execute_result"
    }
   ],
   "source": [
    "my_square(x) = x^2\n",
    "@code_typed my_square(1)"
   ]
  },
  {
   "cell_type": "code",
   "execution_count": 60,
   "metadata": {},
   "outputs": [
    {
     "data": {
      "text/plain": [
       "CodeInfo(\n",
       "\u001b[90m\u001b[63G│╻╷ literal_pow\u001b[1G\u001b[39m\u001b[90m1 \u001b[39m1 ─ %1 = (Base.mul_float)(x, x)\u001b[36m::Float64\u001b[39m\n",
       "\u001b[90m\u001b[63G│  \u001b[1G\u001b[39m\u001b[90m  \u001b[39m└──      return %1\n",
       ") => Float64"
      ]
     },
     "execution_count": 60,
     "metadata": {},
     "output_type": "execute_result"
    }
   ],
   "source": [
    "@code_typed my_square(1.0)"
   ]
  },
  {
   "cell_type": "markdown",
   "metadata": {},
   "source": [
    "Of course, if you know the type of your input, it is always best practice to specify it. "
   ]
  },
  {
   "cell_type": "code",
   "execution_count": 2,
   "metadata": {},
   "outputs": [
    {
     "data": {
      "text/plain": [
       "CodeInfo(\n",
       "\u001b[90m1 ─\u001b[39m %1 = Base.mul_int(x, x)\u001b[36m::Int64\u001b[39m\n",
       "\u001b[90m└──\u001b[39m      return %1\n",
       ") => Int64"
      ]
     },
     "execution_count": 2,
     "metadata": {},
     "output_type": "execute_result"
    }
   ],
   "source": [
    "my_int_square(x::Int64) = x^2\n",
    "@code_typed my_int_square(1)"
   ]
  },
  {
   "cell_type": "markdown",
   "metadata": {},
   "source": [
    "# Cache and reuse compiled code.  \n",
    "This is an easy concept. \n",
    "The code is only compiled once and then cached, so that you don't pay the compilation time again at the next call. "
   ]
  },
  {
   "cell_type": "code",
   "execution_count": 74,
   "metadata": {},
   "outputs": [
    {
     "name": "stdout",
     "output_type": "stream",
     "text": [
      "  0.003535 seconds (4.23 k allocations: 249.857 KiB)\n"
     ]
    },
    {
     "data": {
      "text/plain": [
       "1.073741824e9"
      ]
     },
     "execution_count": 74,
     "metadata": {},
     "output_type": "execute_result"
    }
   ],
   "source": [
    "@time 2^30"
   ]
  },
  {
   "cell_type": "code",
   "execution_count": 75,
   "metadata": {},
   "outputs": [
    {
     "name": "stdout",
     "output_type": "stream",
     "text": [
      "  0.000033 seconds (5 allocations: 176 bytes)\n"
     ]
    },
    {
     "data": {
      "text/plain": [
       "1.073741824e9"
      ]
     },
     "execution_count": 75,
     "metadata": {},
     "output_type": "execute_result"
    }
   ],
   "source": [
    "@time 2^30"
   ]
  },
  {
   "cell_type": "markdown",
   "metadata": {},
   "source": [
    "# Compilation Stages of Julia Code\n",
    "Source Code -> AST (Macro Expansion) \n",
    "-> IR  -> (SSA) IR \n",
    "LLVM IR -> Native code "
   ]
  },
  {
   "cell_type": "code",
   "execution_count": 24,
   "metadata": {},
   "outputs": [
    {
     "data": {
      "text/plain": [
       ":(1 + 2)"
      ]
     },
     "execution_count": 24,
     "metadata": {},
     "output_type": "execute_result"
    }
   ],
   "source": [
    "@macroexpand 1+2"
   ]
  },
  {
   "cell_type": "code",
   "execution_count": 15,
   "metadata": {},
   "outputs": [
    {
     "data": {
      "text/plain": [
       "CodeInfo(\n",
       "\u001b[90m\u001b[77G│\u001b[1G\u001b[39m\u001b[90m53 \u001b[39m1 ─ %1 = (Base.add_int)(x, y)\n",
       "\u001b[90m\u001b[77G│\u001b[1G\u001b[39m\u001b[90m   \u001b[39m└──      return %1\n",
       ")"
      ]
     },
     "execution_count": 15,
     "metadata": {},
     "output_type": "execute_result"
    }
   ],
   "source": [
    "@code_lowered 1+2"
   ]
  },
  {
   "cell_type": "code",
   "execution_count": 16,
   "metadata": {},
   "outputs": [
    {
     "data": {
      "text/plain": [
       "CodeInfo(\n",
       "\u001b[90m\u001b[77G│\u001b[1G\u001b[39m\u001b[90m53 \u001b[39m1 ─ %1 = (Base.add_int)(x, y)\u001b[36m::Int64\u001b[39m\n",
       "\u001b[90m\u001b[77G│\u001b[1G\u001b[39m\u001b[90m   \u001b[39m└──      return %1\n",
       ") => Int64"
      ]
     },
     "execution_count": 16,
     "metadata": {},
     "output_type": "execute_result"
    }
   ],
   "source": [
    "@code_typed 1+2"
   ]
  },
  {
   "cell_type": "code",
   "execution_count": 17,
   "metadata": {},
   "outputs": [
    {
     "name": "stdout",
     "output_type": "stream",
     "text": [
      "\n",
      "; Function +\n",
      "; Location: int.jl:53\n",
      "define i64 @\"julia_+_35442\"(i64, i64) {\n",
      "top:\n",
      "  %2 = add i64 %1, %0\n",
      "  ret i64 %2\n",
      "}\n"
     ]
    }
   ],
   "source": [
    "@code_llvm 1+2"
   ]
  },
  {
   "cell_type": "code",
   "execution_count": 21,
   "metadata": {},
   "outputs": [
    {
     "name": "stdout",
     "output_type": "stream",
     "text": [
      "\t.section\t__TEXT,__text,regular,pure_instructions\n",
      "; Function + {\n",
      "; Location: int.jl:53\n",
      "\tdecl\t%eax\n",
      "\tleal\t(%edi,%esi), %eax\n",
      "\tretl\n",
      ";}\n",
      "; Function <invalid> {\n",
      "; Location: int.jl:53\n",
      "\tnopw\t%cs:(%eax,%eax)\n",
      ";}\n"
     ]
    }
   ],
   "source": [
    "# If you really want to see assembly code, do this:\n",
    "@code_native 1+2"
   ]
  }
 ],
 "metadata": {
  "celltoolbar": "Slideshow",
  "kernelspec": {
   "display_name": "Julia 1.2.0",
   "language": "julia",
   "name": "julia-1.2"
  },
  "language_info": {
   "file_extension": ".jl",
   "mimetype": "application/julia",
   "name": "julia",
   "version": "1.2.0"
  }
 },
 "nbformat": 4,
 "nbformat_minor": 4
}
