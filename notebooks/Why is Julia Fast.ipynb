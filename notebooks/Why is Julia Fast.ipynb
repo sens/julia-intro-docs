{
 "cells": [
  {
   "attachments": {},
   "cell_type": "markdown",
   "metadata": {},
   "source": [
    "Multiple Dispatch. This is one of the core design of Julia. \n",
    "When you write a function addition, it may seem like you only wrote one function. \n",
    "But really, there are multiple functions. It is a function that takes an integer input, a double floating point input, or even a string input. \n",
    "Python is the same way, you don’t have to specify the type of the argument. So the compiler can’t do any optimizations because it does not know what kind of input you will throw at it. \n",
    "A machine is fast when you tell it exactly what to do. \n",
    "In this case, when you tell the compiler to do addition, compared to do addition with two floating point numbers, it is much faster in the latter case. I will show it to you!\n",
    "\n",
    "Just in time compiler:\n",
    "Cache and reuse compiled code.  \n",
    "Target specific hardware\n",
    "\n",
    "Before we investigate why is Julia fast. The key question we need to think about is why is any language slow? \n",
    "In order to run a program, high level language is translated into basic level of machine code.\n",
    "The more efficient the machine code, the faster the program.\n",
    "\n",
    "\n",
    "Computer is fast when you tell it specifically what to do, by providing more information, whether inferred from context or specifically told by the user. \n",
    "We human are the same, when I tell you, my watch is in the first drawer of the night stand in the bedroom, Chances are you will find it within a minute. \n",
    "But if I only tell you, my watch is in the bedroom. You would have to search for it in my dresser, on the bed, under the pillow and eventually find it in the night stand. \n",
    "\n",
    "When you give computer instruction to do addition. If it does not know the type of input. It will have to consider every type, in order to process it correctly. \n",
    "R and python \n",
    "Julia is able to be as fast as C, in the assembly level, it is C!\n",
    "\n",
    "\n",
    "\n",
    "\n",
    "\n",
    "\n",
    "JIT compilation\n",
    "Source code -> AST -> IR -> LLVM -> Machine code\n",
    " \n",
    "Multiple Dispatch\n",
    "Type inference\n",
    "Cached\n",
    "So you don’t compile it again\n",
    "\n",
    "\n",
    "[Why is Julia Fast ](http://ucidatascienceinitiative.github.io/IntroToJulia/Html/WhyJulia)"
   ]
  },
  {
   "cell_type": "code",
   "execution_count": null,
   "metadata": {
    "collapsed": true
   },
   "outputs": [],
   "source": []
  }
 ],
 "metadata": {
  "kernelspec": {
   "display_name": "Julia 1.0.0",
   "language": "julia",
   "name": "julia-1.0"
  },
  "language_info": {
   "file_extension": ".jl",
   "mimetype": "application/julia",
   "name": "julia",
   "version": "1.0.0"
  }
 },
 "nbformat": 4,
 "nbformat_minor": 2
}
