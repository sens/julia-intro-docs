{
 "cells": [
  {
   "cell_type": "markdown",
   "metadata": {},
   "source": [
    "When trying to figure out why is Julia fast, we need to think about what makes a language slow. \n",
    "\n",
    "So here is an analogy: \n",
    "Which one is faster? Driving on highway, or driving in local roads?\n",
    "When we don't have to think about random pedestrians walking on the streats, in the case of highway, we can drive faster. \n",
    "The same is for computers, once the input and output type is determined, the compiler can optimize your code in the most efficient way.\n",
    "\n",
    "So the keys to making Julia fast are its Just In Time (JIT) compiler and multiple dispatch design. \n"
   ]
  },
  {
   "cell_type": "markdown",
   "metadata": {},
   "source": [
    "# Compilation Stages of Julia Code\n",
    "Source Code -> AST (Macro Expansion) \n",
    "-> IR  -> (SSA) IR \n",
    "LLVM IR -> Native code "
   ]
  },
  {
   "cell_type": "code",
   "execution_count": 24,
   "metadata": {},
   "outputs": [
    {
     "data": {
      "text/plain": [
       ":(1 + 2)"
      ]
     },
     "execution_count": 24,
     "metadata": {},
     "output_type": "execute_result"
    }
   ],
   "source": [
    "@macroexpand 1+2"
   ]
  },
  {
   "cell_type": "code",
   "execution_count": 15,
   "metadata": {},
   "outputs": [
    {
     "data": {
      "text/plain": [
       "CodeInfo(\n",
       "\u001b[90m\u001b[77G│\u001b[1G\u001b[39m\u001b[90m53 \u001b[39m1 ─ %1 = (Base.add_int)(x, y)\n",
       "\u001b[90m\u001b[77G│\u001b[1G\u001b[39m\u001b[90m   \u001b[39m└──      return %1\n",
       ")"
      ]
     },
     "execution_count": 15,
     "metadata": {},
     "output_type": "execute_result"
    }
   ],
   "source": [
    "@code_lowered 1+2"
   ]
  },
  {
   "cell_type": "code",
   "execution_count": 16,
   "metadata": {},
   "outputs": [
    {
     "data": {
      "text/plain": [
       "CodeInfo(\n",
       "\u001b[90m\u001b[77G│\u001b[1G\u001b[39m\u001b[90m53 \u001b[39m1 ─ %1 = (Base.add_int)(x, y)\u001b[36m::Int64\u001b[39m\n",
       "\u001b[90m\u001b[77G│\u001b[1G\u001b[39m\u001b[90m   \u001b[39m└──      return %1\n",
       ") => Int64"
      ]
     },
     "execution_count": 16,
     "metadata": {},
     "output_type": "execute_result"
    }
   ],
   "source": [
    "@code_typed 1+2"
   ]
  },
  {
   "cell_type": "code",
   "execution_count": 17,
   "metadata": {},
   "outputs": [
    {
     "name": "stdout",
     "output_type": "stream",
     "text": [
      "\n",
      "; Function +\n",
      "; Location: int.jl:53\n",
      "define i64 @\"julia_+_35442\"(i64, i64) {\n",
      "top:\n",
      "  %2 = add i64 %1, %0\n",
      "  ret i64 %2\n",
      "}\n"
     ]
    }
   ],
   "source": [
    "@code_llvm 1+2"
   ]
  },
  {
   "cell_type": "code",
   "execution_count": 21,
   "metadata": {},
   "outputs": [
    {
     "name": "stdout",
     "output_type": "stream",
     "text": [
      "\t.section\t__TEXT,__text,regular,pure_instructions\n",
      "; Function + {\n",
      "; Location: int.jl:53\n",
      "\tdecl\t%eax\n",
      "\tleal\t(%edi,%esi), %eax\n",
      "\tretl\n",
      ";}\n",
      "; Function <invalid> {\n",
      "; Location: int.jl:53\n",
      "\tnopw\t%cs:(%eax,%eax)\n",
      ";}\n"
     ]
    }
   ],
   "source": [
    "# If you really want to see assembly code, do this:\n",
    "@code_native 1+2"
   ]
  },
  {
   "cell_type": "markdown",
   "metadata": {
    "collapsed": true
   },
   "source": [
    "# Multiple Dispatch\n",
    "Many people believe Julia is fast only because it is Just-In-Time (JIT) compiled (i.e. every statement is run using compiled functions which are either compiled right before they are used, or cached compilations from before). This leads to questions about what Julia gives over JIT'd implementations of Python/R (and MATLAB by default uses a JIT). These JIT compilers have been optimized for far longer than Julia, so why should we be crazy and believe that somehow Julia quickly out-optimized all of them? However, that is a complete misunderstanding of Julia. What I want show, in a very visual way, is that Julia is fast because of its design decisions. The core design decision, type-stability through specialization via multiple-dispatch is what allows Julia to be very easy for a compiler to make into efficient code, but also allow the code to be very concise and \"look like a scripting language\". This will lead to some very clear performance gains."
   ]
  },
  {
   "cell_type": "code",
   "execution_count": 63,
   "metadata": {},
   "outputs": [
    {
     "name": "stdout",
     "output_type": "stream",
     "text": [
      "\t.section\t__TEXT,__text,regular,pure_instructions\n",
      "; Function my_square {\n",
      "; Location: In[63]:1\n",
      "; Function literal_pow; {\n",
      "; Location: intfuncs.jl:243\n",
      "; Function *; {\n",
      "; Location: In[63]:1\n",
      "\tdecl\t%eax\n",
      "\timull\t%edi, %edi\n",
      ";}}\n",
      "\tdecl\t%eax\n",
      "\tmovl\t%edi, %eax\n",
      "\tretl\n",
      "\tnopl\t(%eax,%eax)\n",
      ";}\n"
     ]
    }
   ],
   "source": [
    "my_square(x) = x^2\n",
    "@code_typed my_square(1)"
   ]
  },
  {
   "cell_type": "code",
   "execution_count": 60,
   "metadata": {},
   "outputs": [
    {
     "data": {
      "text/plain": [
       "CodeInfo(\n",
       "\u001b[90m\u001b[63G│╻╷ literal_pow\u001b[1G\u001b[39m\u001b[90m1 \u001b[39m1 ─ %1 = (Base.mul_float)(x, x)\u001b[36m::Float64\u001b[39m\n",
       "\u001b[90m\u001b[63G│  \u001b[1G\u001b[39m\u001b[90m  \u001b[39m└──      return %1\n",
       ") => Float64"
      ]
     },
     "execution_count": 60,
     "metadata": {},
     "output_type": "execute_result"
    }
   ],
   "source": [
    "@code_typed my_square(1.0)"
   ]
  },
  {
   "cell_type": "code",
   "execution_count": 64,
   "metadata": {},
   "outputs": [
    {
     "name": "stdout",
     "output_type": "stream",
     "text": [
      "\t.section\t__TEXT,__text,regular,pure_instructions\n",
      "; Function my_int_square {\n",
      "; Location: In[64]:1\n",
      "; Function literal_pow; {\n",
      "; Location: intfuncs.jl:243\n",
      "; Function *; {\n",
      "; Location: In[64]:1\n",
      "\tdecl\t%eax\n",
      "\timull\t%edi, %edi\n",
      ";}}\n",
      "\tdecl\t%eax\n",
      "\tmovl\t%edi, %eax\n",
      "\tretl\n",
      "\tnopl\t(%eax,%eax)\n",
      ";}\n"
     ]
    }
   ],
   "source": [
    "my_int_square(x::Int64) = x^2\n",
    "@code_native my_int_square(1)"
   ]
  },
  {
   "cell_type": "code",
   "execution_count": 65,
   "metadata": {},
   "outputs": [
    {
     "name": "stdout",
     "output_type": "stream",
     "text": [
      "\t.section\t__TEXT,__text,regular,pure_instructions\n",
      "; Function my_square {\n",
      "; Location: In[63]:1\n",
      "; Function literal_pow; {\n",
      "; Location: intfuncs.jl:243\n",
      "; Function *; {\n",
      "; Location: In[63]:1\n",
      "\tdecl\t%eax\n",
      "\timull\t%edi, %edi\n",
      ";}}\n",
      "\tdecl\t%eax\n",
      "\tmovl\t%edi, %eax\n",
      "\tretl\n",
      "\tnopl\t(%eax,%eax)\n",
      ";}\n"
     ]
    }
   ],
   "source": [
    "@code_native my_square(1)"
   ]
  },
  {
   "cell_type": "markdown",
   "metadata": {},
   "source": [
    "# Cache and reuse compiled code.  \n",
    "This is an easy concept. \n",
    "The code is only compiled once and then cached, so that you don't pay the compilation time again at the next call. "
   ]
  },
  {
   "cell_type": "code",
   "execution_count": 74,
   "metadata": {},
   "outputs": [
    {
     "name": "stdout",
     "output_type": "stream",
     "text": [
      "  0.003535 seconds (4.23 k allocations: 249.857 KiB)\n"
     ]
    },
    {
     "data": {
      "text/plain": [
       "1.073741824e9"
      ]
     },
     "execution_count": 74,
     "metadata": {},
     "output_type": "execute_result"
    }
   ],
   "source": [
    "@time 2^30"
   ]
  },
  {
   "cell_type": "code",
   "execution_count": 75,
   "metadata": {},
   "outputs": [
    {
     "name": "stdout",
     "output_type": "stream",
     "text": [
      "  0.000033 seconds (5 allocations: 176 bytes)\n"
     ]
    },
    {
     "data": {
      "text/plain": [
       "1.073741824e9"
      ]
     },
     "execution_count": 75,
     "metadata": {},
     "output_type": "execute_result"
    }
   ],
   "source": [
    "@time 2^30"
   ]
  }
 ],
 "metadata": {
  "kernelspec": {
   "display_name": "Julia 1.0.0",
   "language": "julia",
   "name": "julia-1.0"
  },
  "language_info": {
   "file_extension": ".jl",
   "mimetype": "application/julia",
   "name": "julia",
   "version": "1.0.0"
  }
 },
 "nbformat": 4,
 "nbformat_minor": 2
}
